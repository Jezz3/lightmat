{
 "cells": [
  {
   "cell_type": "code",
   "execution_count": 1,
   "metadata": {},
   "outputs": [],
   "source": [
    "import numpy as np\n",
    "import matplotlib.pyplot as plt\n",
    "import astropy.units as u\n",
    "from astropy.constants import h, c, eps0, a0\n",
    "\n",
    "#from light import GaussianBeam"
   ]
  },
  {
   "cell_type": "markdown",
   "metadata": {},
   "source": [
    "<h3>Frequency for cooler laser</h3>"
   ]
  },
  {
   "cell_type": "code",
   "execution_count": 2,
   "metadata": {},
   "outputs": [],
   "source": [
    "k39_D2 = (c / (766.700921822*u.nm)).to(u.THz)\n",
    "k40_D2 = (c / (766.700674872*u.nm)).to(u.THz)"
   ]
  },
  {
   "cell_type": "code",
   "execution_count": 3,
   "metadata": {},
   "outputs": [
    {
     "data": {
      "text/latex": [
       "$1285.8 \\; \\mathrm{MHz}$"
      ],
      "text/plain": [
       "<Quantity 1285.80000001 MHz>"
      ]
     },
     "execution_count": 3,
     "metadata": {},
     "output_type": "execute_result"
    }
   ],
   "source": [
    "RM1 = k40_D2 - 50*u.MHz + 571.5*u.MHz\n",
    "RM2 = k40_D2 - 50*u.MHz - 714.3*u.MHz\n",
    "\n",
    "(RM1 - RM2).to(u.MHz)"
   ]
  },
  {
   "cell_type": "code",
   "execution_count": 4,
   "metadata": {},
   "outputs": [
    {
     "data": {
      "text/latex": [
       "$25.8 \\; \\mathrm{MHz}$"
      ],
      "text/plain": [
       "<Quantity 25.8 MHz>"
      ]
     },
     "execution_count": 4,
     "metadata": {},
     "output_type": "execute_result"
    }
   ],
   "source": [
    "laser_freq1 = RM1 - 2*80*u.MHz - 2*200*u.MHz\n",
    "laser_freq2 = RM2 + 2*350*u.MHz \n",
    "\n",
    "(laser_freq1 - laser_freq2).to(u.MHz)"
   ]
  },
  {
   "cell_type": "code",
   "execution_count": 5,
   "metadata": {},
   "outputs": [],
   "source": [
    "offset = (0.01622*u.THz-0.0337*u.THz).to(u.GHz)"
   ]
  },
  {
   "cell_type": "code",
   "execution_count": 6,
   "metadata": {},
   "outputs": [
    {
     "data": {
      "text/latex": [
       "$-17.48 \\; \\mathrm{GHz}$"
      ],
      "text/plain": [
       "<Quantity -17.48 GHz>"
      ]
     },
     "execution_count": 6,
     "metadata": {},
     "output_type": "execute_result"
    }
   ],
   "source": [
    "offset"
   ]
  },
  {
   "cell_type": "markdown",
   "metadata": {},
   "source": [
    "<h3>K39 cross over D1 line vs K40 D1 line</h3>"
   ]
  },
  {
   "cell_type": "code",
   "execution_count": 7,
   "metadata": {},
   "outputs": [
    {
     "name": "stdout",
     "output_type": "stream",
     "text": [
      "1->1 389.28631261617005 THz\n",
      "1->CO 389.28634036617007 THz\n",
      "1->2 389.2863681161701 THz\n",
      "CO->1 389.28608176617007 THz\n",
      "CO->CO 389.2861095161701 THz\n",
      "CO->2 389.2861372661701 THz\n",
      "2->1 389.2858509161701 THz\n",
      "2->CO 389.2858786661701 THz\n",
      "2->2 389.2859064161701 THz\n"
     ]
    }
   ],
   "source": [
    "k39_D1 = (c / (770.108385049*u.nm).to(u.m)).to(u.THz)\n",
    "k40_D1 = (c / (770.108136507*u.nm).to(u.m)).to(u.THz)\n",
    "\n",
    "vapor_cell_lines = {\n",
    "    '1->1'  : k39_D1 + 288.6*u.MHz - 34.7*u.MHz,\n",
    "    '1->CO' : k39_D1 + 288.6*u.MHz - 6.95*u.MHz,\n",
    "    '1->2'  : k39_D1 + 288.6*u.MHz + 20.8*u.MHz,\n",
    "    'CO->1' : k39_D1 + 57.75*u.MHz - 34.7*u.MHz,\n",
    "    'CO->CO': k39_D1 + 57.75*u.MHz - 6.95*u.MHz,\n",
    "    'CO->2' : k39_D1 + 57.75*u.MHz + 20.8*u.MHz,\n",
    "    '2->1'  : k39_D1 - 173.1*u.MHz - 34.7*u.MHz,\n",
    "    '2->CO' : k39_D1 - 173.1*u.MHz - 6.95*u.MHz,\n",
    "    '2->2'  : k39_D1 - 173.1*u.MHz + 20.8*u.MHz,\n",
    "}\n",
    "\n",
    "for key, value in vapor_cell_lines.items():\n",
    "    print(key, value)"
   ]
  },
  {
   "cell_type": "code",
   "execution_count": 5,
   "metadata": {},
   "outputs": [
    {
     "data": {
      "text/latex": [
       "$389.30339 \\; \\mathrm{THz}$"
      ],
      "text/plain": [
       "<Quantity 389.30338642 THz>"
      ]
     },
     "execution_count": 5,
     "metadata": {},
     "output_type": "execute_result"
    }
   ],
   "source": [
    "vapor_cell_lines['2->2']-offset"
   ]
  },
  {
   "cell_type": "code",
   "execution_count": 6,
   "metadata": {},
   "outputs": [
    {
     "data": {
      "text/latex": [
       "$389.30359 \\; \\mathrm{THz}$"
      ],
      "text/plain": [
       "<Quantity 389.30358952 THz>"
      ]
     },
     "execution_count": 6,
     "metadata": {},
     "output_type": "execute_result"
    }
   ],
   "source": [
    "vapor_cell_lines['CO->CO']-offset"
   ]
  },
  {
   "cell_type": "code",
   "execution_count": 7,
   "metadata": {},
   "outputs": [
    {
     "data": {
      "text/latex": [
       "$389.30366 \\; \\mathrm{THz}$"
      ],
      "text/plain": [
       "<Quantity 389.30366435 THz>"
      ]
     },
     "execution_count": 7,
     "metadata": {},
     "output_type": "execute_result"
    }
   ],
   "source": [
    "k40_D1-offset"
   ]
  },
  {
   "cell_type": "code",
   "execution_count": 8,
   "metadata": {},
   "outputs": [
    {
     "data": {
      "text/latex": [
       "$389.30307 \\; \\mathrm{THz}$"
      ],
      "text/plain": [
       "<Quantity 389.30307 THz>"
      ]
     },
     "execution_count": 8,
     "metadata": {},
     "output_type": "execute_result"
    }
   ],
   "source": [
    "# I find the signal at with:\n",
    "# T = 20.6°C\n",
    "# I = 174.10125mA\n",
    "# V = 94V\n",
    "389.30307*u.THz"
   ]
  },
  {
   "cell_type": "code",
   "execution_count": 9,
   "metadata": {},
   "outputs": [
    {
     "name": "stdout",
     "output_type": "stream",
     "text": [
      "K39 D1 line:  389.2860587161701 THz\n",
      "K40 D1 line:  389.28618435298785 THz\n",
      "Difference K39 D1 - K40 D1:  -125.63681775645819 MHz\n",
      "Difference vapor cell D1 lines - K40 D1: \n",
      "1->1 128.26318220504618 MHz\n",
      "1->CO 156.0131822202493 MHz\n",
      "1->2 183.7631822354524 MHz\n",
      "CO->1 -102.58681777486345 MHz\n",
      "CO->CO -74.83681775966033 MHz\n",
      "CO->2 -47.08681774445722 MHz\n",
      "2->1 -333.4368177547731 MHz\n",
      "2->CO -305.68681773956996 MHz\n",
      "2->2 -277.93681772436685 MHz\n"
     ]
    }
   ],
   "source": [
    "print('K39 D1 line: ',k39_D1)\n",
    "print('K40 D1 line: ', k40_D1)\n",
    "print('Difference K39 D1 - K40 D1: ', (k39_D1 - k40_D1).to(u.MHz))\n",
    "print('Difference vapor cell D1 lines - K40 D1: ')\n",
    "for key, value in vapor_cell_lines.items():\n",
    "    print(key, (value - k40_D1).to(u.MHz))"
   ]
  },
  {
   "cell_type": "markdown",
   "metadata": {},
   "source": [
    "<h3>Stark shift of K40 D1 line</h3>"
   ]
  },
  {
   "cell_type": "code",
   "execution_count": 10,
   "metadata": {},
   "outputs": [],
   "source": [
    "def dE_Stark(alpha: float, E: u.Quantity,) -> u.Quantity:\n",
    "    \"\"\"Calculate Stark shift in MHz for a given electric field and polarizability.\n",
    "    \n",
    "    Args:\n",
    "        alpha: polarizability in atomic units as float\n",
    "        E: electric field in SI units as astropy.units.Quantity\n",
    "        \n",
    "    Returns:\n",
    "        Stark shift in MHz as astropy.units.Quantity\n",
    "        \n",
    "    \"\"\"\n",
    "    return (-0.5 * 4*np.pi*eps0*a0**3/h * alpha * E**2).to(u.MHz)"
   ]
  },
  {
   "cell_type": "code",
   "execution_count": 11,
   "metadata": {},
   "outputs": [],
   "source": [
    "hlattice_x_1 = GaussianBeam(\n",
    "    beam_direction=[1, 0, 0],\n",
    "    pol='linear vertical', # vertical polarization for bow-tie beams\n",
    "    lambda_=1064*u.nm,\n",
    "    w0=350*u.um,\n",
    "    P=11*u.W,\n",
    ")\n",
    "\n",
    "hlattice_x_2 = GaussianBeam(\n",
    "    beam_direction=[-1, 0, 0],\n",
    "    pol='linear vertical', # vertical polarization for bow-tie beams\n",
    "    lambda_=1064*u.nm,\n",
    "    w0=350*u.um,\n",
    "    P=11*u.W,\n",
    ")\n",
    "\n",
    "hlattice_y_1 = GaussianBeam(\n",
    "    beam_direction=[0, 1, 0],\n",
    "    pol='linear vertical', # vertical polarization for bow-tie beams\n",
    "    lambda_=1064*u.nm,\n",
    "    w0=350*u.um,\n",
    "    P=11*u.W,\n",
    ")\n",
    "\n",
    "hlattice_y_2 = GaussianBeam(\n",
    "    beam_direction=[0, -1, 0],\n",
    "    pol='linear vertical', # vertical polarization for bow-tie beams\n",
    "    lambda_=1064*u.nm,\n",
    "    w0=350*u.um,\n",
    "    P=11*u.W,\n",
    ")\n",
    "\n",
    "lambda_50GHz_detuned_from_D2 = (c / (c/(766.700674872*u.nm).to(u.m) - 50*u.GHz)).to(u.nm)\n",
    "\n",
    "cooler_x = GaussianBeam(\n",
    "    beam_direction=[-1, 0, 0],\n",
    "    pol='linear horizontal', # polarization should be linear and parallel to substrate\n",
    "    lambda_=lambda_50GHz_detuned_from_D2,\n",
    "    w0=1*u.mm,\n",
    "    I0=(0.79+0.47+0.49)*(u.W / u.cm**2)\n",
    ")\n",
    "\n",
    "cooler_y = GaussianBeam(\n",
    "    beam_direction=[0, -1, 0],\n",
    "    pol='linear horizontal', # polarization should be linear and parallel to substrate\n",
    "    lambda_=lambda_50GHz_detuned_from_D2,\n",
    "    w0=1*u.mm,\n",
    "    I0=2*(u.W / u.cm**2)\n",
    ")\n",
    "\n",
    "lattice_beams = [hlattice_x_1, hlattice_x_2, hlattice_y_1, hlattice_y_2,] \n",
    "cooler_beams = [cooler_x, cooler_y,]"
   ]
  },
  {
   "cell_type": "code",
   "execution_count": 12,
   "metadata": {},
   "outputs": [],
   "source": [
    "repumper_F = GaussianBeam(\n",
    "    beam_direction=[0, -1, 0],\n",
    "    pol='linear horizontal', # polarization should be linear and parallel to substrate\n",
    "    lambda_=770.108136507*u.nm,\n",
    "    w0=1*u.mm,\n",
    "    I0=5.8*(u.mW / u.cm**2)\n",
    ")\n",
    "\n",
    "repumper_mF = GaussianBeam(\n",
    "    beam_direction=[0, -1, 0],\n",
    "    pol='linear horizontal', # polarization should be linear and parallel to substrate\n",
    "    lambda_=770.108136507*u.nm,\n",
    "    w0=1*u.mm,\n",
    "    I0=1.6*(u.mW / u.cm**2)\n",
    ")"
   ]
  },
  {
   "cell_type": "code",
   "execution_count": 13,
   "metadata": {},
   "outputs": [
    {
     "data": {
      "text/latex": [
       "$9.1106187 \\times 10^{-5} \\; \\mathrm{W}$"
      ],
      "text/plain": [
       "<Quantity 9.1106187e-05 W>"
      ]
     },
     "execution_count": 13,
     "metadata": {},
     "output_type": "execute_result"
    }
   ],
   "source": [
    "repumper_F.P"
   ]
  },
  {
   "cell_type": "code",
   "execution_count": 14,
   "metadata": {},
   "outputs": [
    {
     "data": {
      "text/latex": [
       "$2.5132741 \\times 10^{-5} \\; \\mathrm{W}$"
      ],
      "text/plain": [
       "<Quantity 2.51327412e-05 W>"
      ]
     },
     "execution_count": 14,
     "metadata": {},
     "output_type": "execute_result"
    }
   ],
   "source": [
    "repumper_mF.P"
   ]
  },
  {
   "cell_type": "code",
   "execution_count": 15,
   "metadata": {},
   "outputs": [
    {
     "data": {
      "text/latex": [
       "$0.031415927 \\; \\mathrm{W}$"
      ],
      "text/plain": [
       "<Quantity 0.03141593 W>"
      ]
     },
     "execution_count": 15,
     "metadata": {},
     "output_type": "execute_result"
    }
   ],
   "source": [
    "cooler_y.P"
   ]
  },
  {
   "cell_type": "code",
   "execution_count": 16,
   "metadata": {},
   "outputs": [
    {
     "data": {
      "text/latex": [
       "$0.027488936 \\; \\mathrm{W}$"
      ],
      "text/plain": [
       "<Quantity 0.02748894 W>"
      ]
     },
     "execution_count": 16,
     "metadata": {},
     "output_type": "execute_result"
    }
   ],
   "source": [
    "cooler_x.P"
   ]
  },
  {
   "cell_type": "code",
   "execution_count": null,
   "metadata": {},
   "outputs": [],
   "source": []
  },
  {
   "cell_type": "code",
   "execution_count": 17,
   "metadata": {},
   "outputs": [
    {
     "data": {
      "text/latex": [
       "$766.79873 \\; \\mathrm{nm}$"
      ],
      "text/plain": [
       "<Quantity 766.79872689 nm>"
      ]
     },
     "execution_count": 17,
     "metadata": {},
     "output_type": "execute_result"
    }
   ],
   "source": [
    "lambda_50GHz_detuned_from_D2"
   ]
  },
  {
   "cell_type": "code",
   "execution_count": 18,
   "metadata": {},
   "outputs": [],
   "source": [
    "def interpolate(lambda_1, alpha_1, lambda_2, alpha_2, lambda_target):\n",
    "    return alpha_1 + (alpha_2 - alpha_1) * (lambda_target - lambda_1) / (lambda_2 - lambda_1) "
   ]
  },
  {
   "cell_type": "code",
   "execution_count": 19,
   "metadata": {},
   "outputs": [],
   "source": [
    "alpha_k40_4S_1_2_1064 = 599.16\n",
    "alpha_k40_4S_1_2_767 =  interpolate(lambda_1=766.78200, alpha_1=883200.52, lambda_2=766.80200, alpha_2=706297.75, lambda_target=lambda_50GHz_detuned_from_D2.value)\n",
    "alpha_k40_4P_1_2_1064 = -3151.72\n",
    "alpha_k40_4P_1_2_767 = 10474.68"
   ]
  },
  {
   "cell_type": "code",
   "execution_count": 20,
   "metadata": {},
   "outputs": [
    {
     "name": "stdout",
     "output_type": "stream",
     "text": [
      "Stark shift of 4S_1/2 state due to lattice:  -5.137313213264527 MHz\n",
      "Stark shift of 4P_1/2 state due to lattice:  27.023454170021484 MHz\n"
     ]
    }
   ],
   "source": [
    "E = 0*u.V/u.m\n",
    "for beam in lattice_beams:\n",
    "    E = E + beam.E_field_amplitude(0*u.m, 0*u.m, 0*u.m)\n",
    "    \n",
    "dE_4S_1_2_due_to_lattice = dE_Stark(alpha_k40_4S_1_2_1064, E).real # is real anyways, just get rid of + 0j\n",
    "dE_4P_1_2_due_to_lattice = dE_Stark(alpha_k40_4P_1_2_1064, E).real # is real anyways, just get rid of + 0j\n",
    "\n",
    "print('Stark shift of 4S_1/2 state due to lattice: ', dE_4S_1_2_due_to_lattice)\n",
    "print('Stark shift of 4P_1/2 state due to lattice: ', dE_4P_1_2_due_to_lattice)"
   ]
  },
  {
   "cell_type": "code",
   "execution_count": 21,
   "metadata": {},
   "outputs": [
    {
     "name": "stdout",
     "output_type": "stream",
     "text": [
      "Stark shift of 4S_1/2 state due to cooler:  -0.5163554985943527 MHz\n",
      "Stark shift of 4P_1/2 state due to cooler:  -0.0073562283576365005 MHz\n"
     ]
    }
   ],
   "source": [
    "E = 0*u.V/u.m\n",
    "for beam in cooler_beams:\n",
    "    E = E + beam.E_field_amplitude(0*u.m, 0*u.m, 0*u.m)\n",
    "\n",
    "dE_4S_1_2_due_to_cooler = dE_Stark(alpha_k40_4S_1_2_767, E).real # is real anyways, just get rid of + 0j\n",
    "dE_4P_1_2_due_to_cooler = dE_Stark(alpha_k40_4P_1_2_767, E).real # is real anyways, just get rid of + 0j\n",
    "\n",
    "print('Stark shift of 4S_1/2 state due to cooler: ', dE_4S_1_2_due_to_cooler)\n",
    "print('Stark shift of 4P_1/2 state due to cooler: ', dE_4P_1_2_due_to_cooler)"
   ]
  },
  {
   "cell_type": "code",
   "execution_count": 22,
   "metadata": {},
   "outputs": [
    {
     "name": "stdout",
     "output_type": "stream",
     "text": [
      "Total Stark shift of 4S_1/2 state:  -5.653668711858879 MHz\n",
      "Total Stark shift of 4P_1/2 state:  27.016097941663848 MHz\n"
     ]
    }
   ],
   "source": [
    "dE_4S_1_2 = dE_4S_1_2_due_to_lattice + dE_4S_1_2_due_to_cooler\n",
    "dE_4P_1_2 = dE_4P_1_2_due_to_lattice + dE_4P_1_2_due_to_cooler\n",
    "\n",
    "print('Total Stark shift of 4S_1/2 state: ', dE_4S_1_2)\n",
    "print('Total Stark shift of 4P_1/2 state: ', dE_4P_1_2)"
   ]
  },
  {
   "cell_type": "code",
   "execution_count": 23,
   "metadata": {},
   "outputs": [
    {
     "name": "stdout",
     "output_type": "stream",
     "text": [
      "Stark shifted k40 D1 line:  389.2862170227545 THz\n"
     ]
    }
   ],
   "source": [
    "Stark_shifted_k40_D1 = k40_D1 - dE_4S_1_2 + dE_4P_1_2\n",
    "\n",
    "print(\"Stark shifted k40 D1 line: \", Stark_shifted_k40_D1)"
   ]
  },
  {
   "cell_type": "markdown",
   "metadata": {},
   "source": [
    "<h3>Difference of F- and m_F-repumper transitions to K39 cross over D1 line</h3>"
   ]
  },
  {
   "cell_type": "code",
   "execution_count": 24,
   "metadata": {},
   "outputs": [
    {
     "name": "stdout",
     "output_type": "stream",
     "text": [
      "F transition:  389.28535372275445 THz\n",
      "m_F transition:  389.2867948227545 THz\n",
      "Difference F transition - m_F transition:  -1441.1000000222884 MHz\n"
     ]
    }
   ],
   "source": [
    "F_transition = Stark_shifted_k40_D1 - 714.3*u.MHz - 69.0*u.MHz - 80.0*u.MHz\n",
    "m_F_transition = Stark_shifted_k40_D1 + 571.5*u.MHz + 86.3*u.MHz - 80.0*u.MHz\n",
    "\n",
    "print('F transition: ', F_transition)\n",
    "print('m_F transition: ', m_F_transition)\n",
    "print('Difference F transition - m_F transition: ', (F_transition - m_F_transition).to(u.MHz))"
   ]
  },
  {
   "cell_type": "code",
   "execution_count": 25,
   "metadata": {},
   "outputs": [
    {
     "name": "stdout",
     "output_type": "stream",
     "text": [
      "Laser frequency 1:  389.28591372275446 THz\n",
      "Laser frequency 2:  389.2859348227545 THz\n",
      "Difference laser frequency 1 - laser frequency 2:  -21.100000026308408 MHz\n"
     ]
    }
   ],
   "source": [
    "laser_frequency_1 = F_transition + 2*80*u.MHz + 2*200*u.MHz\n",
    "laser_frequency_2 = m_F_transition - 2*80*u.MHz - 2*350*u.MHz\n",
    "unwanted_laser_difference = (laser_frequency_1 - laser_frequency_2).to(u.MHz)\n",
    "\n",
    "print('Laser frequency 1: ', laser_frequency_1)\n",
    "print('Laser frequency 2: ', laser_frequency_2)\n",
    "print('Difference laser frequency 1 - laser frequency 2: ', unwanted_laser_difference)"
   ]
  },
  {
   "cell_type": "code",
   "execution_count": 26,
   "metadata": {},
   "outputs": [
    {
     "name": "stdout",
     "output_type": "stream",
     "text": [
      "Difference laser frequency 1 corrected - laser frequency 2 corrected:  0.0 MHz\n",
      "Shift of F-repumper arm:  -7.3065843366748595 MHz\n",
      "Shift of m_F-repumper arm:  -28.406584362983267 MHz\n"
     ]
    }
   ],
   "source": [
    "# Let's say we change the AOM's to achieve the correct F-m_F difference in such a way that we correct the F-transition\n",
    "# with -x * unwanted_laser_difference and the m_F-transition with (1-x) * unwanted_laser_difference for x in [-1,1]\n",
    "x = 7.3065843366748595*u.MHz / unwanted_laser_difference\n",
    "laser_frequency_1_corrected = laser_frequency_1 - x * unwanted_laser_difference\n",
    "laser_frequency_2_corrected = laser_frequency_2 + (1-x) * unwanted_laser_difference\n",
    "unwanted_laser_difference_corrected = (laser_frequency_1_corrected - laser_frequency_2_corrected).to(u.MHz)\n",
    "\n",
    "print('Difference laser frequency 1 corrected - laser frequency 2 corrected: ', unwanted_laser_difference_corrected)\n",
    "print('Shift of F-repumper arm: ', -x*unwanted_laser_difference)\n",
    "print('Shift of m_F-repumper arm: ', (1-x)*unwanted_laser_difference)"
   ]
  },
  {
   "cell_type": "code",
   "execution_count": 27,
   "metadata": {},
   "outputs": [
    {
     "name": "stdout",
     "output_type": "stream",
     "text": [
      "Laser frequency:  389.2859064161701 THz\n",
      "Difference K39 vapor cell D1 lines - laser frequency: \n",
      "1->1 406.199999929413 MHz\n",
      "1->CO 433.94999994461614 MHz\n",
      "1->2 461.69999995981925 MHz\n",
      "CO->1 175.3499999495034 MHz\n",
      "CO->CO 203.0999999647065 MHz\n",
      "CO->2 230.84999997990963 MHz\n",
      "2->1 -55.50000003040623 MHz\n",
      "2->CO -27.750000015203113 MHz\n",
      "2->2 0.0 MHz\n"
     ]
    }
   ],
   "source": [
    "laser_frequency = laser_frequency_1_corrected\n",
    "\n",
    "print('Laser frequency: ', laser_frequency)\n",
    "print('Difference K39 vapor cell D1 lines - laser frequency: ')\n",
    "for key, value in vapor_cell_lines.items():\n",
    "    print(key, (value - laser_frequency).to(u.MHz))"
   ]
  },
  {
   "cell_type": "code",
   "execution_count": null,
   "metadata": {},
   "outputs": [],
   "source": []
  }
 ],
 "metadata": {
  "kernelspec": {
   "display_name": "base",
   "language": "python",
   "name": "python3"
  },
  "language_info": {
   "codemirror_mode": {
    "name": "ipython",
    "version": 3
   },
   "file_extension": ".py",
   "mimetype": "text/x-python",
   "name": "python",
   "nbconvert_exporter": "python",
   "pygments_lexer": "ipython3",
   "version": "3.10.4"
  }
 },
 "nbformat": 4,
 "nbformat_minor": 2
}
