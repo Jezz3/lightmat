{
 "cells": [
  {
   "cell_type": "code",
   "execution_count": 1,
   "metadata": {},
   "outputs": [],
   "source": [
    "import numpy as np"
   ]
  },
  {
   "cell_type": "code",
   "execution_count": 2,
   "metadata": {},
   "outputs": [],
   "source": [
    "hbar = 1.05457182e-34 #m^2 kg / s\n",
    "h = 6.62607015e-34 #J / Hz\n",
    "c = 299792458 #m / s\n",
    "u = 1.66053906660e-27 #kg\n",
    "a0 = 5.29177210903e-11 #m\n",
    "epsilon0 = 8.8541878128e-12 #F/m"
   ]
  },
  {
   "cell_type": "code",
   "execution_count": 3,
   "metadata": {},
   "outputs": [],
   "source": [
    "m = 39.96399848*u #kg\n",
    "alpha = {1064: 597.5, 1550: 381.8, 866: 86.2} #a.u. (see Safronova PRA 73, 022525 (2006))\n",
    "\n",
    "\n",
    "##def lattice3d(x, y, z, Vx, Vy, Vz, w0_x, w0_y, w0_z, lambda_x=1064, lambda_y=1064, lambda_z=866):\n",
    "#def lattice3d(x, y, z, Vx, Vy, w0_x, w0_y, lambda_x=1064, lambda_y=1064):\n",
    "#    kx = 2*np.pi/lambda_x\n",
    "#    ky = 2*np.pi/lambda_y\n",
    "#    #kz = 2*np.pi/lambda_z\n",
    "#\n",
    "#    V = -Vx * np.exp(-2*(y**2 + z**2)/(w0_x[0]*w0_x[1])) * np.sin(kx*x)**2 \\\n",
    "#        -Vy * np.exp(-2*(x**2 + z**2)/(w0_y[0]*w0_y[1])) * np.sin(ky*y)**2 #\\\n",
    "#        #-Vz * np.exp(-2*(x**2 + y**2)/(w0_z[0]*w0_z[1])) * np.sin(kz*z)**2\n",
    "#\n",
    "#    return V\n",
    "#\n",
    "#\n",
    "#\n",
    "##def second_partial_derivative_x(func, x, y, z, h=1e-10, *args, **kwargs):\n",
    "##    df_dx2 = (func(x + h, y,z, *args, **kwargs) - 2 * func(x, y,z, *args, **kwargs) + func(x - h, y,z, *args, **kwargs)) / (h**2)    \n",
    "##    return df_dx2\n",
    "##\n",
    "##def second_partial_derivative_y(func, x, y, z, h=1e-10, *args, **kwargs):\n",
    "##    df_dy2 = (func(x,y + h,z, *args, **kwargs) - 2 * func(x,y,z, *args, **kwargs) + func(x,y - h,z, *args, **kwargs)) / (h**2)    \n",
    "##    return df_dy2\n",
    "#\n",
    "#def second_partial_derivative_z(func, x, y, z, *args, h=1e-10, **kwargs):\n",
    "#    df_dz2 = (func(x,y,z + h, *args, **kwargs) - 2*func(x,y,z, *args, **kwargs) + func(x,y,z + h, *args, **kwargs)) / (h**2)    \n",
    "#    return df_dz2\n",
    "\n",
    "\n",
    "#def second_partial_derivative(x, y, z, Vx, Vy, Vz, x_beam_params, y_beam_params, z_beam_params,):\n",
    "#    w0_x = x_beam_params['w0']\n",
    "#    w0_y = y_beam_params['w0']\n",
    "#    w0_z = z_beam_params['w0']\n",
    "#    kx = 2*np.pi/(x_beam_params['lambda']*1e-9)\n",
    "#    ky = 2*np.pi/(y_beam_params['lambda']*1e-9)\n",
    "#    kz = 2*np.pi/(z_beam_params['lambda']*1e-9)\n",
    "#\n",
    "#    V = -2*Vx*kx**2 * np.exp(-(2*(y**2 + z**2))/(w0_x[0]*w0_x[1])) * (np.cos(kx*x)**2 - np.sin(kx*x)**2) \\\n",
    "#        -2*Vy*ky**2 * np.exp(-(2*(x**2 + z**2))/(w0_y[0]*w0_y[1])) * (np.cos(ky*y)**2 - np.sin(ky*y)**2) \\\n",
    "#        -2*Vz*kz**2 * np.exp(-(2*(x**2 + y**2))/(w0_z[0]*w0_z[1])) * (np.cos(kz*z)**2 - np.sin(kz*z)**2)\n",
    "#    \n",
    "#    return V    \n",
    "\n",
    "\n",
    "def get_lattice_depth(beam_params,):\n",
    "    '''Calculate the lattice depth of lattice alongside direction perpendicular to w0.\n",
    "    \n",
    "        Args:\n",
    "            P: Power per beam [W]\n",
    "            w0: Beam waist radius in both radial directions [cm x cm]\n",
    "            lambda_: Wavelength of lattice laser [nm]\n",
    "            theta: angle between the two interfering lattice beams [rad]\n",
    "\n",
    "        Returns:\n",
    "            Er: Recoil energy of lattice [Hz]\n",
    "            Vlat: Lattice depth [Hz]\n",
    "    '''\n",
    "    P = beam_params['P']\n",
    "    lambda_ = beam_params['lambda']\n",
    "    w0 = beam_params['w0']\n",
    "    theta = beam_params['theta']\n",
    "\n",
    "    a = lambda_*1e-9/(2*np.sin(theta/2)) #m\n",
    "    Er = h / (8*m*(a**2)) #Hz\n",
    "    I0 = 2*4*P/(np.pi*(w0[0]*w0[1])) #W/cm^2 (We need the total power of the E-field, which for us is 4 times the beam power because the beam gets retroreflected to form the lattice)\n",
    "\n",
    "    # look at ipad notes for the derivation of the following formula\n",
    "    Vlat = alpha[lambda_] * 1e4*(a0**3)/(c*hbar) * I0 #Hz \n",
    "\n",
    "    return Er, Vlat\n",
    "\n",
    "\n",
    "\n",
    "def get_trap_frequencies(Vx, Vy, Vz, x_beam_params, y_beam_params, z_beam_params,):\n",
    "    '''Calculate trap frequency of 3d lattice in z-direction.\n",
    "\n",
    "        Args:\n",
    "            Vx: Lattice depth in x-direction [Hz]\n",
    "            Vy: Lattice depth in y-direction [Hz]\n",
    "            w0_x: Beam waist radius in y- and z- direction of x-lattice beam [cm x cm]\n",
    "            w0_y: Beam waist radius in x- and z- direction of y-lattice beam [cm x cm]\n",
    "            z: Position of local trap frequency \n",
    "\n",
    "        Returns:\n",
    "            w_trap: Laocal trap frequency [Hz]\n",
    "    \n",
    "    '''\n",
    "    kx = 2*np.pi/(x_beam_params['lambda']*1e-9)\n",
    "    ky = 2*np.pi/(y_beam_params['lambda']*1e-9)\n",
    "    kz = 2*np.pi/(z_beam_params['lambda']*1e-9)\n",
    "\n",
    "    w_trap_x = np.sqrt(2*Vx*h*(kx**2)/m) #Hz\n",
    "    w_trap_y = np.sqrt(2*Vy*h*(ky**2)/m) #Hz\n",
    "    w_trap_z = np.sqrt(2*Vz*h*(kz**2)/m) #Hz\n",
    "\n",
    "    return w_trap_x, w_trap_y, w_trap_z\n",
    "\n",
    "\n",
    "\n",
    "def get_lamb_dicke_parameter(w_trap, lattice_params):\n",
    "\n",
    "    lambda_ = lattice_params['lambda']\n",
    "\n",
    "    k = 2*np.pi/(lambda_*1e-9) #1/m\n",
    "    w_rec = hbar*k**2/(2*m) #Hz\n",
    "\n",
    "    eta = np.sqrt(w_rec/w_trap) \n",
    "\n",
    "    return eta\n",
    "\n",
    "\n"
   ]
  },
  {
   "cell_type": "markdown",
   "metadata": {},
   "source": [
    "<h3>Lattice depth</h3>"
   ]
  },
  {
   "cell_type": "code",
   "execution_count": 4,
   "metadata": {},
   "outputs": [
    {
     "name": "stdout",
     "output_type": "stream",
     "text": [
      "x direction depth: \n",
      "Er =  4.409859436263901 kHz\n",
      "Vlat/Er =  264.030269003267\n",
      "\n",
      "\n",
      "\n",
      "y direction depth: \n",
      "Er =  4.409859436263901 kHz\n",
      "Vlat/Er =  264.030269003267\n",
      "\n",
      "\n",
      "\n",
      "z direction depth: \n",
      "Er =  0.1403857769827029 kHz\n",
      "Vlat/Er =  1465.7530268609225\n"
     ]
    }
   ],
   "source": [
    "x_beam_params = {'P': 10, #W\n",
    "                 'lambda': 1064, #nm\n",
    "                 'w0': [350e-4, 175e-4], #cm x cm\n",
    "                 'theta': np.pi ,#rad\n",
    "                 }\n",
    "\n",
    "y_beam_params = {'P': 10, #W\n",
    "                 'lambda': 1064, #nm\n",
    "                 'w0': [350e-4, 175e-4], #cm x cm\n",
    "                 'theta': np.pi ,#rad\n",
    "                 }\n",
    "\n",
    "z_beam_params = {'P': 0.5, #W\n",
    "                 'lambda': 866, #nm\n",
    "                 'w0': [50e-4, 50e-4], #cm x cm\n",
    "                 'theta': 16.7/360 * 2*np.pi ,#rad\n",
    "                 }\n",
    "\n",
    "Erx, Vx = get_lattice_depth(x_beam_params)\n",
    "Ery, Vy = get_lattice_depth(y_beam_params)\n",
    "Erz, Vz = get_lattice_depth(z_beam_params)\n",
    "\n",
    "print('x direction depth: ')\n",
    "print('Er = ', Erx*1e-3, 'kHz')\n",
    "print('Vlat/Er = ', Vx/Erx)\n",
    "print('\\n\\n')\n",
    "print('y direction depth: ')\n",
    "print('Er = ', Ery*1e-3, 'kHz')\n",
    "print('Vlat/Er = ', Vy/Ery)\n",
    "print('\\n\\n')\n",
    "print('z direction depth: ')\n",
    "print('Er = ', Erz*1e-3, 'kHz')\n",
    "print('Vlat/Er = ', Vz/Erz)"
   ]
  },
  {
   "cell_type": "markdown",
   "metadata": {},
   "source": [
    "<h3>Trapping frequencies</h3>"
   ]
  },
  {
   "cell_type": "code",
   "execution_count": 5,
   "metadata": {},
   "outputs": [
    {
     "name": "stdout",
     "output_type": "stream",
     "text": [
      "w_trap_x = 2pi x  143.31168469380702 kHz\n",
      "w_trap_y = 2pi x  143.31168469380702 kHz\n",
      "w_trap_z = 2pi x  74.02153037219855 kHz\n",
      "\n",
      "\n",
      "\n",
      "eta_x =  0.17541695707224672\n",
      "eta_y =  0.17541695707224672\n",
      "eta_z =  0.29988661345113604\n"
     ]
    }
   ],
   "source": [
    "w_trap_x, w_trap_y, w_trap_z = get_trap_frequencies(Vx, Vy, Vz, x_beam_params, y_beam_params, z_beam_params,)\n",
    "\n",
    "print('w_trap_x = 2pi x ', w_trap_x*1e-3 / (2*np.pi), 'kHz')\n",
    "print('w_trap_y = 2pi x ', w_trap_y*1e-3 / (2*np.pi), 'kHz')\n",
    "print('w_trap_z = 2pi x ', w_trap_z*1e-3 / (2*np.pi), 'kHz')\n",
    "\n",
    "eta_x = get_lamb_dicke_parameter(w_trap_x, x_beam_params)\n",
    "eta_y = get_lamb_dicke_parameter(w_trap_y, y_beam_params)\n",
    "eta_z = get_lamb_dicke_parameter(w_trap_z, z_beam_params)\n",
    "\n",
    "print('\\n\\n')\n",
    "print('eta_x = ', eta_x)\n",
    "print('eta_y = ', eta_y)\n",
    "print('eta_z = ', eta_z)"
   ]
  },
  {
   "cell_type": "code",
   "execution_count": 6,
   "metadata": {},
   "outputs": [
    {
     "name": "stdout",
     "output_type": "stream",
     "text": [
      "alpha =  86.25373057384968\n"
     ]
    }
   ],
   "source": [
    "P = 0.15 #W\n",
    "w0 = [50e-4, 50e-4] #cm x cm\n",
    "lambda_ = 866 #nm\n",
    "theta = 16.7/360 * 2*np.pi #rad\n",
    "\n",
    "\n",
    "a = lambda_*1e-9/(2*np.sin(theta/2)) #m\n",
    "Er = h / (8*m*(a**2)) #Hz\n",
    "V0 = 440*Er\n",
    "\n",
    "I0 = 2*4*P/(np.pi*(w0[0]*w0[1])) #W/cm^2 \n",
    "\n",
    "alpha = V0 / (1e4*(a0**3)/(c*hbar) * I0)\n",
    "\n",
    "print('alpha = ', alpha)"
   ]
  },
  {
   "cell_type": "code",
   "execution_count": null,
   "metadata": {},
   "outputs": [],
   "source": []
  }
 ],
 "metadata": {
  "kernelspec": {
   "display_name": "base",
   "language": "python",
   "name": "python3"
  },
  "language_info": {
   "codemirror_mode": {
    "name": "ipython",
    "version": 3
   },
   "file_extension": ".py",
   "mimetype": "text/x-python",
   "name": "python",
   "nbconvert_exporter": "python",
   "pygments_lexer": "ipython3",
   "version": "3.9.12"
  },
  "orig_nbformat": 4
 },
 "nbformat": 4,
 "nbformat_minor": 2
}
