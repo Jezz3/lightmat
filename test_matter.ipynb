{
 "cells": [
  {
   "cell_type": "code",
   "execution_count": 1,
   "metadata": {},
   "outputs": [],
   "source": [
    "import pandas as pd\n",
    "import numpy as np\n",
    "import astropy.units as u\n",
    "from astropy.constants import hbar, h, c, eps0, e, a0\n",
    "import pywigxjpf as wig\n",
    "\n",
    "from sympy.physics.wigner import wigner_3j, wigner_6j\n",
    "\n",
    "from LightMat import Atom, GaussianBeam, Potential, Lattice1d"
   ]
  },
  {
   "cell_type": "code",
   "execution_count": 13,
   "metadata": {},
   "outputs": [
    {
     "ename": "AttributeError",
     "evalue": "'str' object has no attribute 'ndim'",
     "output_type": "error",
     "traceback": [
      "\u001b[0;31m---------------------------------------------------------------------------\u001b[0m",
      "\u001b[0;31mAttributeError\u001b[0m                            Traceback (most recent call last)",
      "Cell \u001b[0;32mIn[13], line 1\u001b[0m\n\u001b[0;32m----> 1\u001b[0m lat \u001b[38;5;241m=\u001b[39m \u001b[43mLattice1d\u001b[49m\u001b[43m(\u001b[49m\n\u001b[1;32m      2\u001b[0m \u001b[43m    \u001b[49m\u001b[43mlattice_direction_vec\u001b[49m\u001b[38;5;241;43m=\u001b[39;49m\u001b[43mnp\u001b[49m\u001b[38;5;241;43m.\u001b[39;49m\u001b[43marray\u001b[49m\u001b[43m(\u001b[49m\u001b[43m[\u001b[49m\u001b[38;5;241;43m1\u001b[39;49m\u001b[43m,\u001b[49m\u001b[43m \u001b[49m\u001b[38;5;241;43m0\u001b[39;49m\u001b[43m,\u001b[49m\u001b[43m \u001b[49m\u001b[38;5;241;43m0\u001b[39;49m\u001b[43m]\u001b[49m\u001b[43m)\u001b[49m\u001b[43m,\u001b[49m\n\u001b[1;32m      3\u001b[0m \u001b[43m    \u001b[49m\u001b[43mintersect_angle\u001b[49m\u001b[38;5;241;43m=\u001b[39;49m\u001b[38;5;241;43m0\u001b[39;49m\u001b[43m,\u001b[49m\n\u001b[1;32m      4\u001b[0m \u001b[43m    \u001b[49m\u001b[43mw0\u001b[49m\u001b[43m \u001b[49m\u001b[38;5;241;43m=\u001b[39;49m\u001b[43m \u001b[49m\u001b[38;5;241;43m1\u001b[39;49m\u001b[43m,\u001b[49m\n\u001b[1;32m      5\u001b[0m \u001b[43m    \u001b[49m\u001b[43mP\u001b[49m\u001b[38;5;241;43m=\u001b[39;49m\u001b[43m(\u001b[49m\u001b[38;5;241;43m1\u001b[39;49m\u001b[43m,\u001b[49m\u001b[43m \u001b[49m\u001b[38;5;241;43m0.5\u001b[39;49m\u001b[43m)\u001b[49m\u001b[43m,\u001b[49m\n\u001b[1;32m      6\u001b[0m \u001b[43m    \u001b[49m\u001b[43mlambda_\u001b[49m\u001b[38;5;241;43m=\u001b[39;49m\u001b[38;5;241;43m1064\u001b[39;49m\u001b[38;5;241;43m*\u001b[39;49m\u001b[43mu\u001b[49m\u001b[38;5;241;43m.\u001b[39;49m\u001b[43mnm\u001b[49m\n\u001b[1;32m      7\u001b[0m \u001b[43m)\u001b[49m\n",
      "File \u001b[0;32m~/Dokumente/lightmat/LightMat/light/lattice1d.py:69\u001b[0m, in \u001b[0;36mLattice1d.__init__\u001b[0;34m(self, lattice_direction_vec, intersect_angle, lambda_, w0, P, pol_Jones_vec, z0, name)\u001b[0m\n\u001b[1;32m     64\u001b[0m \u001b[38;5;28mself\u001b[39m\u001b[38;5;241m.\u001b[39mbeam_direction_forward_vec, \u001b[38;5;28mself\u001b[39m\u001b[38;5;241m.\u001b[39mbeam_direction_backward_vec \u001b[38;5;241m=\u001b[39m \u001b[38;5;28mself\u001b[39m\u001b[38;5;241m.\u001b[39m_calculate_beam_directions()\n\u001b[1;32m     66\u001b[0m \u001b[38;5;66;03m# Create the two GaussianBeam instances for the two counterpropagating lattice beams\u001b[39;00m\n\u001b[1;32m     67\u001b[0m \u001b[38;5;28mself\u001b[39m\u001b[38;5;241m.\u001b[39mbeam_forward \u001b[38;5;241m=\u001b[39m GaussianBeam(\n\u001b[1;32m     68\u001b[0m     beam_direction_vec\u001b[38;5;241m=\u001b[39m\u001b[38;5;28mself\u001b[39m\u001b[38;5;241m.\u001b[39mbeam_direction_forward_vec,\n\u001b[0;32m---> 69\u001b[0m     pol_Jones_vec\u001b[38;5;241m=\u001b[39m\u001b[38;5;28mself\u001b[39m\u001b[38;5;241m.\u001b[39mpol_Jones_vec \u001b[38;5;28;01mif\u001b[39;00m \u001b[38;5;28;43mself\u001b[39;49m\u001b[38;5;241;43m.\u001b[39;49m\u001b[43mpol_Jones_vec\u001b[49m\u001b[38;5;241;43m.\u001b[39;49m\u001b[43mndim\u001b[49m \u001b[38;5;241m==\u001b[39m \u001b[38;5;241m1\u001b[39m \u001b[38;5;129;01mand\u001b[39;00m \u001b[38;5;129;01mnot\u001b[39;00m \u001b[38;5;28misinstance\u001b[39m(\u001b[38;5;28mself\u001b[39m\u001b[38;5;241m.\u001b[39mpol_Jones_vec[\u001b[38;5;241m0\u001b[39m], \u001b[38;5;28mstr\u001b[39m) \u001b[38;5;28;01melse\u001b[39;00m \u001b[38;5;28mself\u001b[39m\u001b[38;5;241m.\u001b[39mpol_Jones_vec[\u001b[38;5;241m0\u001b[39m],\n\u001b[1;32m     70\u001b[0m     lambda_\u001b[38;5;241m=\u001b[39m\u001b[38;5;28mself\u001b[39m\u001b[38;5;241m.\u001b[39mlambda_ \u001b[38;5;28;01mif\u001b[39;00m \u001b[38;5;28mself\u001b[39m\u001b[38;5;241m.\u001b[39mlambda_\u001b[38;5;241m.\u001b[39misscalar \u001b[38;5;28;01melse\u001b[39;00m \u001b[38;5;28mself\u001b[39m\u001b[38;5;241m.\u001b[39mlambda_[\u001b[38;5;241m0\u001b[39m],\n\u001b[1;32m     71\u001b[0m     w0\u001b[38;5;241m=\u001b[39m\u001b[38;5;28mself\u001b[39m\u001b[38;5;241m.\u001b[39mw0 \u001b[38;5;28;01mif\u001b[39;00m \u001b[38;5;28mself\u001b[39m\u001b[38;5;241m.\u001b[39mw0\u001b[38;5;241m.\u001b[39mndim \u001b[38;5;241m==\u001b[39m \u001b[38;5;241m1\u001b[39m \u001b[38;5;129;01mor\u001b[39;00m \u001b[38;5;28mself\u001b[39m\u001b[38;5;241m.\u001b[39mw0\u001b[38;5;241m.\u001b[39misscalar \u001b[38;5;28;01melse\u001b[39;00m \u001b[38;5;28mself\u001b[39m\u001b[38;5;241m.\u001b[39mw0[\u001b[38;5;241m0\u001b[39m],\n\u001b[1;32m     72\u001b[0m     P\u001b[38;5;241m=\u001b[39m\u001b[38;5;28mself\u001b[39m\u001b[38;5;241m.\u001b[39mP \u001b[38;5;28;01mif\u001b[39;00m \u001b[38;5;28mself\u001b[39m\u001b[38;5;241m.\u001b[39mP\u001b[38;5;241m.\u001b[39misscalar \u001b[38;5;28;01melse\u001b[39;00m \u001b[38;5;28mself\u001b[39m\u001b[38;5;241m.\u001b[39mP[\u001b[38;5;241m0\u001b[39m],\n\u001b[1;32m     73\u001b[0m     z0\u001b[38;5;241m=\u001b[39m\u001b[38;5;28mself\u001b[39m\u001b[38;5;241m.\u001b[39mz0 \u001b[38;5;28;01mif\u001b[39;00m \u001b[38;5;28mself\u001b[39m\u001b[38;5;241m.\u001b[39mz0\u001b[38;5;241m.\u001b[39misscalar \u001b[38;5;28;01melse\u001b[39;00m \u001b[38;5;28mself\u001b[39m\u001b[38;5;241m.\u001b[39mz0[\u001b[38;5;241m0\u001b[39m],\n\u001b[1;32m     74\u001b[0m )\n\u001b[1;32m     76\u001b[0m \u001b[38;5;28mself\u001b[39m\u001b[38;5;241m.\u001b[39mbeam_backward \u001b[38;5;241m=\u001b[39m GaussianBeam(\n\u001b[1;32m     77\u001b[0m     beam_direction_vec\u001b[38;5;241m=\u001b[39m\u001b[38;5;28mself\u001b[39m\u001b[38;5;241m.\u001b[39mbeam_direction_backward_vec,\n\u001b[1;32m     78\u001b[0m     pol_Jones_vec\u001b[38;5;241m=\u001b[39m\u001b[38;5;28mself\u001b[39m\u001b[38;5;241m.\u001b[39mpol_Jones_vec \u001b[38;5;28;01mif\u001b[39;00m \u001b[38;5;28mself\u001b[39m\u001b[38;5;241m.\u001b[39mpol_Jones_vec\u001b[38;5;241m.\u001b[39mndim \u001b[38;5;241m==\u001b[39m \u001b[38;5;241m1\u001b[39m \u001b[38;5;129;01mand\u001b[39;00m \u001b[38;5;129;01mnot\u001b[39;00m \u001b[38;5;28misinstance\u001b[39m(\u001b[38;5;28mself\u001b[39m\u001b[38;5;241m.\u001b[39mpol_Jones_vec[\u001b[38;5;241m1\u001b[39m], \u001b[38;5;28mstr\u001b[39m) \u001b[38;5;28;01melse\u001b[39;00m \u001b[38;5;28mself\u001b[39m\u001b[38;5;241m.\u001b[39mpol_Jones_vec[\u001b[38;5;241m1\u001b[39m],\n\u001b[0;32m   (...)\u001b[0m\n\u001b[1;32m     82\u001b[0m     z0\u001b[38;5;241m=\u001b[39m\u001b[38;5;28mself\u001b[39m\u001b[38;5;241m.\u001b[39mz0 \u001b[38;5;28;01mif\u001b[39;00m \u001b[38;5;28mself\u001b[39m\u001b[38;5;241m.\u001b[39mz0\u001b[38;5;241m.\u001b[39misscalar \u001b[38;5;28;01melse\u001b[39;00m \u001b[38;5;28mself\u001b[39m\u001b[38;5;241m.\u001b[39mz0[\u001b[38;5;241m1\u001b[39m],\n\u001b[1;32m     83\u001b[0m )\n\u001b[1;32m     85\u001b[0m \u001b[38;5;28msuper\u001b[39m()\u001b[38;5;241m.\u001b[39m\u001b[38;5;21m__init__\u001b[39m(\n\u001b[1;32m     86\u001b[0m     name \u001b[38;5;241m=\u001b[39m \u001b[38;5;28mself\u001b[39m\u001b[38;5;241m.\u001b[39mname,\n\u001b[1;32m     87\u001b[0m     beams \u001b[38;5;241m=\u001b[39m [\u001b[38;5;28mself\u001b[39m\u001b[38;5;241m.\u001b[39mbeam_forward, \u001b[38;5;28mself\u001b[39m\u001b[38;5;241m.\u001b[39mbeam_backward], \n\u001b[1;32m     88\u001b[0m )\n",
      "\u001b[0;31mAttributeError\u001b[0m: 'str' object has no attribute 'ndim'"
     ]
    }
   ],
   "source": [
    "lat = Lattice1d(\n",
    "    lattice_direction_vec=np.array([1, 0, 0]),\n",
    "    intersect_angle=0,\n",
    "    w0 = 1,\n",
    "    P=(1, 0.5),\n",
    "    lambda_=1064*u.nm\n",
    ")"
   ]
  },
  {
   "cell_type": "code",
   "execution_count": 12,
   "metadata": {},
   "outputs": [
    {
     "data": {
      "text/plain": [
       "array([0., 1.])"
      ]
     },
     "execution_count": 12,
     "metadata": {},
     "output_type": "execute_result"
    }
   ],
   "source": [
    "lat.beams[0].pol_Jones_vec"
   ]
  },
  {
   "cell_type": "code",
   "execution_count": 4,
   "metadata": {},
   "outputs": [
    {
     "ename": "TypeError",
     "evalue": "lasers must be a Laser or sequence of Lasers",
     "output_type": "error",
     "traceback": [
      "\u001b[0;31m---------------------------------------------------------------------------\u001b[0m",
      "\u001b[0;31mTypeError\u001b[0m                                 Traceback (most recent call last)",
      "Cell \u001b[0;32mIn[4], line 12\u001b[0m\n\u001b[1;32m      2\u001b[0m atom \u001b[38;5;241m=\u001b[39m Atom(\u001b[38;5;124m'\u001b[39m\u001b[38;5;124mK\u001b[39m\u001b[38;5;124m'\u001b[39m, hfs_state\u001b[38;5;241m=\u001b[39mhfs_state)\n\u001b[1;32m      4\u001b[0m laser \u001b[38;5;241m=\u001b[39m GaussianBeam(\n\u001b[1;32m      5\u001b[0m     beam_direction_vec\u001b[38;5;241m=\u001b[39m(\u001b[38;5;241m0\u001b[39m, \u001b[38;5;241m0\u001b[39m, \u001b[38;5;241m1\u001b[39m),\n\u001b[1;32m      6\u001b[0m     pol_Jones_vec\u001b[38;5;241m=\u001b[39m\u001b[38;5;124m'\u001b[39m\u001b[38;5;124mcircular right\u001b[39m\u001b[38;5;124m'\u001b[39m,\n\u001b[0;32m   (...)\u001b[0m\n\u001b[1;32m      9\u001b[0m     P\u001b[38;5;241m=\u001b[39m\u001b[38;5;241m1\u001b[39m\u001b[38;5;241m*\u001b[39mu\u001b[38;5;241m.\u001b[39mW,\n\u001b[1;32m     10\u001b[0m )\n\u001b[0;32m---> 12\u001b[0m pot \u001b[38;5;241m=\u001b[39m \u001b[43mPotential\u001b[49m\u001b[43m(\u001b[49m\u001b[43mlaser\u001b[49m\u001b[43m,\u001b[49m\u001b[43m \u001b[49m\u001b[43matom\u001b[49m\u001b[43m)\u001b[49m\n",
      "File \u001b[0;32m~/Dokumente/lightmat/LightMat/potential.py:30\u001b[0m, in \u001b[0;36mPotential.__init__\u001b[0;34m(self, lasers, atom)\u001b[0m\n\u001b[1;32m     28\u001b[0m \u001b[38;5;28mself\u001b[39m\u001b[38;5;241m.\u001b[39mlasers \u001b[38;5;241m=\u001b[39m lasers\n\u001b[1;32m     29\u001b[0m \u001b[38;5;28mself\u001b[39m\u001b[38;5;241m.\u001b[39matom \u001b[38;5;241m=\u001b[39m atom\n\u001b[0;32m---> 30\u001b[0m \u001b[38;5;28;43mself\u001b[39;49m\u001b[38;5;241;43m.\u001b[39;49m\u001b[43m_check_input\u001b[49m\u001b[43m(\u001b[49m\u001b[38;5;124;43m\"\u001b[39;49m\u001b[38;5;124;43minit\u001b[39;49m\u001b[38;5;124;43m\"\u001b[39;49m\u001b[43m)\u001b[49m\n",
      "File \u001b[0;32m~/Dokumente/lightmat/LightMat/potential.py:78\u001b[0m, in \u001b[0;36mPotential._check_input\u001b[0;34m(self, method)\u001b[0m\n\u001b[1;32m     76\u001b[0m \u001b[38;5;28;01melse\u001b[39;00m:\n\u001b[1;32m     77\u001b[0m     \u001b[38;5;28;01mif\u001b[39;00m \u001b[38;5;129;01mnot\u001b[39;00m \u001b[38;5;28misinstance\u001b[39m(\u001b[38;5;28mself\u001b[39m\u001b[38;5;241m.\u001b[39mlasers, Laser):\n\u001b[0;32m---> 78\u001b[0m         \u001b[38;5;28;01mraise\u001b[39;00m \u001b[38;5;167;01mTypeError\u001b[39;00m(\u001b[38;5;124m\"\u001b[39m\u001b[38;5;124mlasers must be a Laser or sequence of Lasers\u001b[39m\u001b[38;5;124m\"\u001b[39m)\n\u001b[1;32m     79\u001b[0m     \u001b[38;5;28;01melse\u001b[39;00m:\n\u001b[1;32m     80\u001b[0m         \u001b[38;5;28mself\u001b[39m\u001b[38;5;241m.\u001b[39mlasers \u001b[38;5;241m=\u001b[39m [\u001b[38;5;28mself\u001b[39m\u001b[38;5;241m.\u001b[39mlasers]\n",
      "\u001b[0;31mTypeError\u001b[0m: lasers must be a Laser or sequence of Lasers"
     ]
    }
   ],
   "source": [
    "hfs_state = {'n': 4, 'L': 's', 'J': 1/2, 'F': 9/2, 'mF': 4, 'I': 4,}\n",
    "atom = Atom('K', hfs_state=hfs_state)\n",
    "\n",
    "laser = GaussianBeam(\n",
    "    beam_direction_vec=(0, 0, 1),\n",
    "    pol_Jones_vec='circular right',\n",
    "    lambda_=1064*u.nm,\n",
    "    w0=1*u.mm,\n",
    "    P=1*u.W,\n",
    ")\n",
    "\n",
    "pot = Potential(laser, atom)"
   ]
  },
  {
   "cell_type": "code",
   "execution_count": null,
   "metadata": {},
   "outputs": [
    {
     "data": {
      "text/latex": [
       "$[(14393.628+5714.5837i),~(-5714.5837+14393.628i),~(0+0i)] \\; \\mathrm{\\frac{V}{m}}$"
      ],
      "text/plain": [
       "<Quantity [14393.62845019 +5714.58373239j, -5714.58373239+14393.62845019j,\n",
       "               0.            +0.j        ] V / m>"
      ]
     },
     "execution_count": 6,
     "metadata": {},
     "output_type": "execute_result"
    }
   ],
   "source": [
    "laser.E_vec(1, 1, 1)"
   ]
  },
  {
   "cell_type": "code",
   "execution_count": null,
   "metadata": {},
   "outputs": [
    {
     "data": {
      "text/plain": [
       "array([0.70710678+0.j        , 0.        +0.70710678j,\n",
       "       0.        +0.j        ])"
      ]
     },
     "execution_count": 7,
     "metadata": {},
     "output_type": "execute_result"
    }
   ],
   "source": [
    "laser.pol_3d_vec"
   ]
  },
  {
   "cell_type": "code",
   "execution_count": null,
   "metadata": {},
   "outputs": [
    {
     "data": {
      "text/html": [
       "<div>\n",
       "<style scoped>\n",
       "    .dataframe tbody tr th:only-of-type {\n",
       "        vertical-align: middle;\n",
       "    }\n",
       "\n",
       "    .dataframe tbody tr th {\n",
       "        vertical-align: top;\n",
       "    }\n",
       "\n",
       "    .dataframe thead th {\n",
       "        text-align: right;\n",
       "    }\n",
       "</style>\n",
       "<table border=\"1\" class=\"dataframe\">\n",
       "  <thead>\n",
       "    <tr style=\"text-align: right;\">\n",
       "      <th></th>\n",
       "      <th>Transition</th>\n",
       "      <th>Wavelength [nm]</th>\n",
       "      <th>Reduced dipole element [e*a0]</th>\n",
       "      <th>Linewidth [hbar x MHz]</th>\n",
       "    </tr>\n",
       "  </thead>\n",
       "  <tbody>\n",
       "    <tr>\n",
       "      <th>0</th>\n",
       "      <td>4s1/2 -&gt; 4p1/2</td>\n",
       "      <td>770.1084</td>\n",
       "      <td>4.106004</td>\n",
       "      <td>37.395530</td>\n",
       "    </tr>\n",
       "    <tr>\n",
       "      <th>1</th>\n",
       "      <td>4s1/2 -&gt; 4p3/2</td>\n",
       "      <td>766.7009</td>\n",
       "      <td>5.807005</td>\n",
       "      <td>37.899463</td>\n",
       "    </tr>\n",
       "    <tr>\n",
       "      <th>2</th>\n",
       "      <td>4s1/2 -&gt; 5p1/2</td>\n",
       "      <td>404.8356</td>\n",
       "      <td>0.275830</td>\n",
       "      <td>7.336831</td>\n",
       "    </tr>\n",
       "    <tr>\n",
       "      <th>3</th>\n",
       "      <td>4s1/2 -&gt; 5p3/2</td>\n",
       "      <td>404.5285</td>\n",
       "      <td>0.405932</td>\n",
       "      <td>7.509524</td>\n",
       "    </tr>\n",
       "    <tr>\n",
       "      <th>4</th>\n",
       "      <td>4s1/2 -&gt; 6p1/2</td>\n",
       "      <td>344.8363</td>\n",
       "      <td>0.083927</td>\n",
       "      <td>2.930204</td>\n",
       "    </tr>\n",
       "    <tr>\n",
       "      <th>5</th>\n",
       "      <td>4s1/2 -&gt; 6p3/2</td>\n",
       "      <td>344.7359</td>\n",
       "      <td>0.127649</td>\n",
       "      <td>3.005600</td>\n",
       "    </tr>\n",
       "    <tr>\n",
       "      <th>6</th>\n",
       "      <td>4s1/2 -&gt; 7p1/2</td>\n",
       "      <td>321.8549</td>\n",
       "      <td>0.039180</td>\n",
       "      <td>1.530500</td>\n",
       "    </tr>\n",
       "    <tr>\n",
       "      <th>7</th>\n",
       "      <td>4s1/2 -&gt; 7p3/2</td>\n",
       "      <td>321.8083</td>\n",
       "      <td>0.061411</td>\n",
       "      <td>1.570011</td>\n",
       "    </tr>\n",
       "    <tr>\n",
       "      <th>8</th>\n",
       "      <td>4s1/2 -&gt; 8p1/2</td>\n",
       "      <td>310.2946</td>\n",
       "      <td>0.022602</td>\n",
       "      <td>0.914320</td>\n",
       "    </tr>\n",
       "    <tr>\n",
       "      <th>9</th>\n",
       "      <td>4s1/2 -&gt; 8p3/2</td>\n",
       "      <td>310.2689</td>\n",
       "      <td>0.036377</td>\n",
       "      <td>0.937654</td>\n",
       "    </tr>\n",
       "    <tr>\n",
       "      <th>10</th>\n",
       "      <td>4s1/2 -&gt; 9p1/2</td>\n",
       "      <td>303.5804</td>\n",
       "      <td>0.014803</td>\n",
       "      <td>0.592394</td>\n",
       "    </tr>\n",
       "    <tr>\n",
       "      <th>11</th>\n",
       "      <td>4s1/2 -&gt; 9p3/2</td>\n",
       "      <td>303.5645</td>\n",
       "      <td>0.024369</td>\n",
       "      <td>0.607380</td>\n",
       "    </tr>\n",
       "    <tr>\n",
       "      <th>12</th>\n",
       "      <td>4s1/2 -&gt; 10p1/2</td>\n",
       "      <td>299.3095</td>\n",
       "      <td>0.010543</td>\n",
       "      <td>0.410348</td>\n",
       "    </tr>\n",
       "    <tr>\n",
       "      <th>13</th>\n",
       "      <td>4s1/2 -&gt; 10p3/2</td>\n",
       "      <td>299.2991</td>\n",
       "      <td>0.017688</td>\n",
       "      <td>0.420446</td>\n",
       "    </tr>\n",
       "    <tr>\n",
       "      <th>14</th>\n",
       "      <td>4s1/2 -&gt; 11p1/2</td>\n",
       "      <td>296.4149</td>\n",
       "      <td>0.007964</td>\n",
       "      <td>0.293831</td>\n",
       "    </tr>\n",
       "    <tr>\n",
       "      <th>15</th>\n",
       "      <td>4s1/2 -&gt; 11p3/2</td>\n",
       "      <td>296.4076</td>\n",
       "      <td>0.013573</td>\n",
       "      <td>0.301024</td>\n",
       "    </tr>\n",
       "    <tr>\n",
       "      <th>16</th>\n",
       "      <td>4s1/2 -&gt; 12p1/2</td>\n",
       "      <td>294.3583</td>\n",
       "      <td>0.006281</td>\n",
       "      <td>0.217598</td>\n",
       "    </tr>\n",
       "    <tr>\n",
       "      <th>17</th>\n",
       "      <td>4s1/2 -&gt; 12p3/2</td>\n",
       "      <td>294.3530</td>\n",
       "      <td>0.010845</td>\n",
       "      <td>0.222892</td>\n",
       "    </tr>\n",
       "  </tbody>\n",
       "</table>\n",
       "</div>"
      ],
      "text/plain": [
       "         Transition  Wavelength [nm]  Reduced dipole element [e*a0]  \\\n",
       "0    4s1/2 -> 4p1/2         770.1084                       4.106004   \n",
       "1    4s1/2 -> 4p3/2         766.7009                       5.807005   \n",
       "2    4s1/2 -> 5p1/2         404.8356                       0.275830   \n",
       "3    4s1/2 -> 5p3/2         404.5285                       0.405932   \n",
       "4    4s1/2 -> 6p1/2         344.8363                       0.083927   \n",
       "5    4s1/2 -> 6p3/2         344.7359                       0.127649   \n",
       "6    4s1/2 -> 7p1/2         321.8549                       0.039180   \n",
       "7    4s1/2 -> 7p3/2         321.8083                       0.061411   \n",
       "8    4s1/2 -> 8p1/2         310.2946                       0.022602   \n",
       "9    4s1/2 -> 8p3/2         310.2689                       0.036377   \n",
       "10   4s1/2 -> 9p1/2         303.5804                       0.014803   \n",
       "11   4s1/2 -> 9p3/2         303.5645                       0.024369   \n",
       "12  4s1/2 -> 10p1/2         299.3095                       0.010543   \n",
       "13  4s1/2 -> 10p3/2         299.2991                       0.017688   \n",
       "14  4s1/2 -> 11p1/2         296.4149                       0.007964   \n",
       "15  4s1/2 -> 11p3/2         296.4076                       0.013573   \n",
       "16  4s1/2 -> 12p1/2         294.3583                       0.006281   \n",
       "17  4s1/2 -> 12p3/2         294.3530                       0.010845   \n",
       "\n",
       "    Linewidth [hbar x MHz]  \n",
       "0                37.395530  \n",
       "1                37.899463  \n",
       "2                 7.336831  \n",
       "3                 7.509524  \n",
       "4                 2.930204  \n",
       "5                 3.005600  \n",
       "6                 1.530500  \n",
       "7                 1.570011  \n",
       "8                 0.914320  \n",
       "9                 0.937654  \n",
       "10                0.592394  \n",
       "11                0.607380  \n",
       "12                0.410348  \n",
       "13                0.420446  \n",
       "14                0.293831  \n",
       "15                0.301024  \n",
       "16                0.217598  \n",
       "17                0.222892  "
      ]
     },
     "execution_count": 4,
     "metadata": {},
     "output_type": "execute_result"
    }
   ],
   "source": [
    "atom.fs_transition_data_pretty"
   ]
  },
  {
   "cell_type": "code",
   "execution_count": null,
   "metadata": {},
   "outputs": [],
   "source": [
    "J = pot.atom.fs_state['J']\n",
    "\n",
    "alpha_s = 1/(np.sqrt(3*(2*J+1))) * pot._reduced_dynamical_polarizability(K=0)\n",
    "alpha_v = -np.sqrt(2*J / ((J+1) * (2*J+1))) * pot._reduced_dynamical_polarizability(K=1)\n",
    "alpha_t = -np.sqrt(2*J*(2*J-1) / (3 * (J+1) * (2*J+1) * (2*J+3))) * pot._reduced_dynamical_polarizability(K=2)"
   ]
  },
  {
   "cell_type": "code",
   "execution_count": null,
   "metadata": {},
   "outputs": [
    {
     "data": {
      "text/latex": [
       "$1.4776668 \\times 10^{-5} \\; \\mathrm{\\frac{m^{2}\\,Hz}{V^{2}}}$"
      ],
      "text/plain": [
       "<Quantity 1.47766676e-05 m2 Hz / V2>"
      ]
     },
     "execution_count": 5,
     "metadata": {},
     "output_type": "execute_result"
    }
   ],
   "source": [
    "alpha_s"
   ]
  },
  {
   "cell_type": "code",
   "execution_count": null,
   "metadata": {},
   "outputs": [
    {
     "data": {
      "text/latex": [
       "$-1.3091734 \\times 10^{-7} \\; \\mathrm{\\frac{m^{2}\\,Hz}{V^{2}}}$"
      ],
      "text/plain": [
       "<Quantity -1.30917337e-07 m2 Hz / V2>"
      ]
     },
     "execution_count": 6,
     "metadata": {},
     "output_type": "execute_result"
    }
   ],
   "source": [
    "alpha_v"
   ]
  },
  {
   "cell_type": "code",
   "execution_count": null,
   "metadata": {},
   "outputs": [
    {
     "data": {
      "text/latex": [
       "$-0 \\; \\mathrm{\\frac{m^{2}\\,Hz}{V^{2}}}$"
      ],
      "text/plain": [
       "<Quantity -0. m2 Hz / V2>"
      ]
     },
     "execution_count": 7,
     "metadata": {},
     "output_type": "execute_result"
    }
   ],
   "source": [
    "alpha_t"
   ]
  },
  {
   "cell_type": "code",
   "execution_count": null,
   "metadata": {},
   "outputs": [
    {
     "data": {
      "text/latex": [
       "$1.4776668 \\times 10^{-5} \\; \\mathrm{\\frac{m^{2}\\,Hz}{V^{2}}}$"
      ],
      "text/plain": [
       "<Quantity 1.47766676e-05 m2 Hz / V2>"
      ]
     },
     "execution_count": 8,
     "metadata": {},
     "output_type": "execute_result"
    }
   ],
   "source": [
    "alpha = alpha_s #+ alpha_v + alpha_t\n",
    "\n",
    "alpha"
   ]
  },
  {
   "cell_type": "code",
   "execution_count": null,
   "metadata": {},
   "outputs": [],
   "source": [
    "#2.48832e-8 * 233.625"
   ]
  },
  {
   "cell_type": "code",
   "execution_count": null,
   "metadata": {},
   "outputs": [
    {
     "data": {
      "text/latex": [
       "$1.4909391 \\times 10^{-5} \\; \\mathrm{\\frac{m^{2}\\,Hz}{V^{2}}}$"
      ],
      "text/plain": [
       "<Quantity 1.49093914e-05 m2 Hz / V2>"
      ]
     },
     "execution_count": 10,
     "metadata": {},
     "output_type": "execute_result"
    }
   ],
   "source": [
    "alpha2 = 2.48832e-8 * 599.175 * u.Hz * u.m**2 / u.V**2\n",
    "\n",
    "alpha2"
   ]
  },
  {
   "cell_type": "code",
   "execution_count": null,
   "metadata": {},
   "outputs": [
    {
     "data": {
      "text/latex": [
       "$27.834093 \\; \\mathrm{\\frac{cm^{2}\\,Hz}{W}}$"
      ],
      "text/plain": [
       "<Quantity 27.83409314 cm2 Hz / W>"
      ]
     },
     "execution_count": 11,
     "metadata": {},
     "output_type": "execute_result"
    }
   ],
   "source": [
    "((alpha) / (2 * eps0 * c)).to(u.Hz/(u.W/u.cm**2))  # factor 4?"
   ]
  },
  {
   "cell_type": "code",
   "execution_count": null,
   "metadata": {},
   "outputs": [
    {
     "data": {
      "text/latex": [
       "$28.084098 \\; \\mathrm{\\frac{cm^{2}\\,Hz}{W}}$"
      ],
      "text/plain": [
       "<Quantity 28.08409842 cm2 Hz / W>"
      ]
     },
     "execution_count": 12,
     "metadata": {},
     "output_type": "execute_result"
    }
   ],
   "source": [
    "((alpha2) / (2 * eps0 * c)).to(u.Hz/(u.W/u.cm**2))"
   ]
  },
  {
   "cell_type": "code",
   "execution_count": null,
   "metadata": {},
   "outputs": [],
   "source": []
  }
 ],
 "metadata": {
  "kernelspec": {
   "display_name": "lightmatter",
   "language": "python",
   "name": "python3"
  },
  "language_info": {
   "codemirror_mode": {
    "name": "ipython",
    "version": 3
   },
   "file_extension": ".py",
   "mimetype": "text/x-python",
   "name": "python",
   "nbconvert_exporter": "python",
   "pygments_lexer": "ipython3",
   "version": "3.10.4"
  }
 },
 "nbformat": 4,
 "nbformat_minor": 2
}
