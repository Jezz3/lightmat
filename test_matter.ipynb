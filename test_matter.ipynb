{
 "cells": [
  {
   "cell_type": "code",
   "execution_count": 1,
   "metadata": {},
   "outputs": [],
   "source": [
    "import pandas as pd\n",
    "import numpy as np\n",
    "import astropy.units as u\n",
    "from astropy.constants import h, hbar\n",
    "\n",
    "from lightmatter import Atom"
   ]
  },
  {
   "cell_type": "code",
   "execution_count": 13,
   "metadata": {},
   "outputs": [],
   "source": [
    "K = Atom(\n",
    "    name='K',\n",
    "    fs_state={'n':4, 'l':'s', 'j':1/2},\n",
    ")"
   ]
  },
  {
   "cell_type": "code",
   "execution_count": 3,
   "metadata": {},
   "outputs": [],
   "source": [
    "csv_file_path = './atomic_data/K1TransitionRates.csv'\n",
    "df = pd.read_csv(csv_file_path, usecols=[0, 1, 5, 8, 9,])\n",
    "\n",
    "df = df.rename(columns={'Initial': 'initial', 'Final': 'final', 'Wavelength (nm)': 'wavelength', 'Transition rate (s-1)': 'Aki', 'Transition rate error': 'Aki error',})"
   ]
  },
  {
   "cell_type": "code",
   "execution_count": 4,
   "metadata": {},
   "outputs": [],
   "source": [
    "I = 4\n",
    "\n",
    "as12 = -285.7308 * h * u.MHz\n",
    "bs12 = 0 * h * u.MHz\n",
    "\n",
    "ap12 = -34.523 * h * u.MHz\n",
    "bp12 = 0 * h * u.MHz\n",
    "\n",
    "ap32 = -7.585 * h * u.MHz\n",
    "bp32 = -3.445 * h * u.MHz"
   ]
  },
  {
   "cell_type": "code",
   "execution_count": 5,
   "metadata": {},
   "outputs": [],
   "source": [
    "def hfs(a, b, I, J):\n",
    "    E = {}\n",
    "    for F in np.linspace(abs(I-J),I+J, int(2*J+1)):\n",
    "        G = F*(F+1) - I*(I+1) - J*(J+1)\n",
    "        if b.value == 0:\n",
    "            E[F] = (0.5*a*G / h).to(u.MHz)\n",
    "        else:\n",
    "            E[F] = ((0.5*a*G + b*(1.5*G*(G+1)-2*I*(I+1)*J*(J+1))/(2*I*(2*I-1)*2*J*(2*J-1))) / h).to(u.MHz)\n",
    "\n",
    "    return E"
   ]
  },
  {
   "cell_type": "code",
   "execution_count": 6,
   "metadata": {},
   "outputs": [],
   "source": [
    "Es12 = hfs(as12, bs12, I, 1/2)\n",
    "Ep12 = hfs(ap12, bp12, I, 1/2)\n",
    "Ep32 = hfs(ap32, bp32, I, 3/2)"
   ]
  },
  {
   "cell_type": "code",
   "execution_count": 7,
   "metadata": {},
   "outputs": [
    {
     "data": {
      "text/plain": [
       "{3.5: <Quantity 714.327 MHz>, 4.5: <Quantity -571.4616 MHz>}"
      ]
     },
     "execution_count": 7,
     "metadata": {},
     "output_type": "execute_result"
    }
   ],
   "source": [
    "Es12"
   ]
  },
  {
   "cell_type": "code",
   "execution_count": 8,
   "metadata": {},
   "outputs": [
    {
     "data": {
      "text/plain": [
       "{3.5: <Quantity 86.3075 MHz>, 4.5: <Quantity -69.046 MHz>}"
      ]
     },
     "execution_count": 8,
     "metadata": {},
     "output_type": "execute_result"
    }
   ],
   "source": [
    "Ep12"
   ]
  },
  {
   "cell_type": "code",
   "execution_count": 9,
   "metadata": {},
   "outputs": [
    {
     "data": {
      "text/plain": [
       "{2.5: <Quantity 55.19575893 MHz>,\n",
       " 3.5: <Quantity 31.01669643 MHz>,\n",
       " 4.5: <Quantity -2.2853125 MHz>,\n",
       " 5.5: <Quantity -46.37125 MHz>}"
      ]
     },
     "execution_count": 9,
     "metadata": {},
     "output_type": "execute_result"
    }
   ],
   "source": [
    "Ep32"
   ]
  },
  {
   "cell_type": "code",
   "execution_count": 10,
   "metadata": {},
   "outputs": [
    {
     "data": {
      "text/html": [
       "<div>\n",
       "<style scoped>\n",
       "    .dataframe tbody tr th:only-of-type {\n",
       "        vertical-align: middle;\n",
       "    }\n",
       "\n",
       "    .dataframe tbody tr th {\n",
       "        vertical-align: top;\n",
       "    }\n",
       "\n",
       "    .dataframe thead th {\n",
       "        text-align: right;\n",
       "    }\n",
       "</style>\n",
       "<table border=\"1\" class=\"dataframe\">\n",
       "  <thead>\n",
       "    <tr style=\"text-align: right;\">\n",
       "      <th></th>\n",
       "      <th>initial</th>\n",
       "      <th>final</th>\n",
       "      <th>wavelength</th>\n",
       "      <th>Aki</th>\n",
       "      <th>Aki error</th>\n",
       "    </tr>\n",
       "  </thead>\n",
       "  <tbody>\n",
       "    <tr>\n",
       "      <th>72</th>\n",
       "      <td>4p1/2</td>\n",
       "      <td>4s1/2</td>\n",
       "      <td>770.1084</td>\n",
       "      <td>3.739553e+07</td>\n",
       "      <td>36430.132029</td>\n",
       "    </tr>\n",
       "    <tr>\n",
       "      <th>73</th>\n",
       "      <td>4p3/2</td>\n",
       "      <td>4s1/2</td>\n",
       "      <td>766.7009</td>\n",
       "      <td>3.789946e+07</td>\n",
       "      <td>39159.080802</td>\n",
       "    </tr>\n",
       "  </tbody>\n",
       "</table>\n",
       "</div>"
      ],
      "text/plain": [
       "   initial  final  wavelength           Aki     Aki error\n",
       "72   4p1/2  4s1/2    770.1084  3.739553e+07  36430.132029\n",
       "73   4p3/2  4s1/2    766.7009  3.789946e+07  39159.080802"
      ]
     },
     "execution_count": 10,
     "metadata": {},
     "output_type": "execute_result"
    }
   ],
   "source": [
    "search_result = df[df['final'].isin(['4s1/2']) & df['initial'].isin(['4p1/2', '4p3/2'])]\n",
    "\n",
    "search_result"
   ]
  },
  {
   "cell_type": "code",
   "execution_count": null,
   "metadata": {},
   "outputs": [],
   "source": []
  }
 ],
 "metadata": {
  "kernelspec": {
   "display_name": "lightmatter",
   "language": "python",
   "name": "python3"
  },
  "language_info": {
   "codemirror_mode": {
    "name": "ipython",
    "version": 3
   },
   "file_extension": ".py",
   "mimetype": "text/x-python",
   "name": "python",
   "nbconvert_exporter": "python",
   "pygments_lexer": "ipython3",
   "version": "3.10.4"
  }
 },
 "nbformat": 4,
 "nbformat_minor": 2
}
