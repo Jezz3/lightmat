{
 "cells": [
  {
   "cell_type": "code",
   "execution_count": 1,
   "metadata": {},
   "outputs": [],
   "source": [
    "import pandas as pd"
   ]
  },
  {
   "cell_type": "code",
   "execution_count": 3,
   "metadata": {},
   "outputs": [
    {
     "name": "stdout",
     "output_type": "stream",
     "text": [
      "    Initial   Final  Wavelength (nm)  Transition rate (s-1)  \\\n",
      "0     5s1/2   4p1/2        1243.5699           7.953257e+06   \n",
      "1     5s1/2   4p3/2        1252.5591           1.579597e+07   \n",
      "2     6s1/2   4p1/2         691.2988           2.503020e+06   \n",
      "3     6s1/2   4p3/2         694.0678           4.955292e+06   \n",
      "4     6s1/2   5p1/2        3637.2519           1.624849e+06   \n",
      "..      ...     ...              ...                    ...   \n",
      "484  11d5/2   8f7/2       13061.5640           1.158791e+04   \n",
      "485  11d5/2   9f5/2       24710.5713           5.765492e+02   \n",
      "486  11d5/2   9f7/2       24710.5713           1.153098e+04   \n",
      "487  11d5/2  10f5/2       68219.7577           6.780660e+02   \n",
      "488  11d5/2  10f7/2       68219.7577           1.356132e+04   \n",
      "\n",
      "     Transition rate error  \n",
      "0             29354.686234  \n",
      "1             59612.467240  \n",
      "2             20518.592573  \n",
      "3             41243.481757  \n",
      "4              4922.984535  \n",
      "..                     ...  \n",
      "484             520.065885  \n",
      "485              26.171727  \n",
      "486             523.427500  \n",
      "487              25.710605  \n",
      "488             514.185760  \n",
      "\n",
      "[489 rows x 5 columns]\n"
     ]
    }
   ],
   "source": [
    "csv_file_path = './atomic_data/K1TransitionRates.csv'\n",
    "df = pd.read_csv(csv_file_path, usecols=[0, 1, 5, 8, 9,])\n",
    "\n",
    "# Display the DataFrame\n",
    "print(df)"
   ]
  },
  {
   "cell_type": "code",
   "execution_count": null,
   "metadata": {},
   "outputs": [],
   "source": []
  }
 ],
 "metadata": {
  "kernelspec": {
   "display_name": "lightmatter",
   "language": "python",
   "name": "python3"
  },
  "language_info": {
   "codemirror_mode": {
    "name": "ipython",
    "version": 3
   },
   "file_extension": ".py",
   "mimetype": "text/x-python",
   "name": "python",
   "nbconvert_exporter": "python",
   "pygments_lexer": "ipython3",
   "version": "3.10.4"
  }
 },
 "nbformat": 4,
 "nbformat_minor": 2
}
