{
 "cells": [
  {
   "cell_type": "code",
   "execution_count": 1,
   "metadata": {},
   "outputs": [],
   "source": [
    "import numpy as np\n",
    "import matplotlib.pyplot as plt\n",
    "import astropy.units as u\n",
    "from astropy.constants import h, c, eps0, a0\n",
    "\n",
    "from fields import GaussianBeam"
   ]
  },
  {
   "cell_type": "code",
   "execution_count": 2,
   "metadata": {},
   "outputs": [],
   "source": [
    "hlattice1 = GaussianBeam(\n",
    "    lambda_=1064*u.nm,\n",
    "    w0=350*u.um,\n",
    "    P0=11*u.W,\n",
    ")\n",
    "\n",
    "hlattice2 = GaussianBeam(\n",
    "    lambda_=1064*u.nm,\n",
    "    w0=350*u.um,\n",
    "    P0=11*u.W,\n",
    ")\n",
    "\n",
    "cooler1 = GaussianBeam(\n",
    "    lambda_=767*u.nm,\n",
    "    w0=10*u.mm,\n",
    "    I0=2*(u.W / u.cm**2)\n",
    ")\n",
    "\n",
    "cooler2 = GaussianBeam(\n",
    "    lambda_=767*u.nm,\n",
    "    w0=10*u.mm,\n",
    "    I0=(0.79+0.47+0.49)*(u.W / u.cm**2)\n",
    ")\n",
    "\n",
    "beams = [hlattice1, hlattice2, cooler1, cooler2]"
   ]
  },
  {
   "cell_type": "code",
   "execution_count": 3,
   "metadata": {},
   "outputs": [
    {
     "name": "stdout",
     "output_type": "stream",
     "text": [
      "Wavelength: $\\\\lambda$ =  767.0 nm\n",
      "Frequency: $\\nu$ =  390.863700130378 THz\n",
      "Angular frequency: $\\omega$ =  2455.8690577690386 THz\n",
      "Wave number: $k$ =  8191897.401798677 1 / m\n",
      "Beam waist diameter: $w_0$ =  10.0 mm\n",
      "Rayleigh length: $z_R$ =  409.5948700899339 m\n",
      "Beam divergence angle: $\\theta$ =  2.4414368270296745e-05 rad\n",
      "Peak power: $P_0$ =  3.141592653589793 W\n",
      "Peak intensity: $I_0$ =  2000.0 mW / cm2\n",
      "Peak electric field strength: $E_0$ =  3881.908364023395 V / m\n"
     ]
    }
   ],
   "source": [
    "cooler1.print_beam_data()"
   ]
  },
  {
   "cell_type": "code",
   "execution_count": 4,
   "metadata": {},
   "outputs": [],
   "source": [
    "#def dE_Stark(beam: Beam, alpha: u.a0**3):\n",
    "#    return -0.5 * 4*np.pi*eps0*a0**3/h * alpha"
   ]
  },
  {
   "cell_type": "markdown",
   "metadata": {},
   "source": [
    "<h3>K39 D1 line vs K40 D1 line</h3>"
   ]
  },
  {
   "cell_type": "code",
   "execution_count": 5,
   "metadata": {},
   "outputs": [],
   "source": [
    "k39_D1 = (c / (770.108385049*u.nm).to(u.m)).to(u.THz)\n",
    "k39_cross_level_D1 = k39_D1 - (57.57*u.MHz).to(u.THz)\n",
    "\n",
    "k40_D1 = (c / (770.108136507*u.nm).to(u.m)).to(u.THz)"
   ]
  },
  {
   "cell_type": "code",
   "execution_count": 6,
   "metadata": {},
   "outputs": [
    {
     "name": "stdout",
     "output_type": "stream",
     "text": [
      "K39 D1 line:  389.2860587161701 THz\n",
      "K39 cross level D1 line:  389.28600114617007 THz\n",
      "K40 D1 line:  389.28618435298785 THz\n",
      "Difference K39 D1 - K40 D1:  -125.63681775645819 MHz\n",
      "Difference K39 cross level D1 - K40 D1:  -183.2068177805013 MHz\n"
     ]
    }
   ],
   "source": [
    "print('K39 D1 line: ',k39_D1)\n",
    "print('K39 cross level D1 line: ', k39_cross_level_D1)\n",
    "print('K40 D1 line: ', k40_D1)\n",
    "print('Difference K39 D1 - K40 D1: ', (k39_D1 - k40_D1).to(u.MHz))\n",
    "print('Difference K39 cross level D1 - K40 D1: ', (k39_cross_level_D1 - k40_D1).to(u.MHz))"
   ]
  },
  {
   "cell_type": "code",
   "execution_count": null,
   "metadata": {},
   "outputs": [],
   "source": []
  }
 ],
 "metadata": {
  "kernelspec": {
   "display_name": "lightmatter",
   "language": "python",
   "name": "python3"
  },
  "language_info": {
   "codemirror_mode": {
    "name": "ipython",
    "version": 3
   },
   "file_extension": ".py",
   "mimetype": "text/x-python",
   "name": "python",
   "nbconvert_exporter": "python",
   "pygments_lexer": "ipython3",
   "version": "3.10.13"
  }
 },
 "nbformat": 4,
 "nbformat_minor": 2
}
