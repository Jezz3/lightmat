{
 "cells": [
  {
   "cell_type": "code",
   "execution_count": 10,
   "metadata": {},
   "outputs": [],
   "source": [
    "import numpy as np\n",
    "import matplotlib.pyplot as plt\n",
    "import astropy.units as u\n",
    "from astropy.constants import h, c, eps0, a0\n",
    "\n",
    "from fields import GaussianBeam"
   ]
  },
  {
   "cell_type": "code",
   "execution_count": 2,
   "metadata": {},
   "outputs": [],
   "source": [
    "hlattice_x_1 = GaussianBeam(\n",
    "    beam_direction=[1, 0, 0],\n",
    "    pol='linear vertical', # vertical polarization for bow-tie beams\n",
    "    lambda_=1064*u.nm,\n",
    "    w0=350*u.um,\n",
    "    P=11*u.W,\n",
    ")\n",
    "\n",
    "hlattice_x_2 = GaussianBeam(\n",
    "    beam_direction=[-1, 0, 0],\n",
    "    pol='linear vertical', # vertical polarization for bow-tie beams\n",
    "    lambda_=1064*u.nm,\n",
    "    w0=350*u.um,\n",
    "    P=11*u.W,\n",
    ")\n",
    "\n",
    "hlattice_y_1 = GaussianBeam(\n",
    "    beam_direction=[0, 1, 0],\n",
    "    pol='linear vertical', # vertical polarization for bow-tie beams\n",
    "    lambda_=1064*u.nm,\n",
    "    w0=350*u.um,\n",
    "    P=11*u.W,\n",
    ")\n",
    "\n",
    "hlattice_y_2 = GaussianBeam(\n",
    "    beam_direction=[0, -1, 0],\n",
    "    pol='linear vertical', # vertical polarization for bow-tie beams\n",
    "    lambda_=1064*u.nm,\n",
    "    w0=350*u.um,\n",
    "    P=11*u.W,\n",
    ")\n",
    "\n",
    "cooler_x = GaussianBeam(\n",
    "    beam_direction=[-1, 0, 0],\n",
    "    pol='linear horizontal', # polarization should be linear and parallel to substrate\n",
    "    lambda_=767*u.nm,\n",
    "    w0=10*u.mm,\n",
    "    I0=(0.79+0.47+0.49)*(u.W / u.cm**2)\n",
    ")\n",
    "\n",
    "cooler_y = GaussianBeam(\n",
    "    beam_direction=[0, -1, 0],\n",
    "    pol='linear horizontal', # polarization should be linear and parallel to substrate\n",
    "    lambda_=767*u.nm,\n",
    "    w0=10*u.mm,\n",
    "    I0=2*(u.W / u.cm**2)\n",
    ")\n",
    "\n",
    "beams = [hlattice_x_1, hlattice_x_2, hlattice_y_1, hlattice_y_2, cooler_x, cooler_y]"
   ]
  },
  {
   "cell_type": "code",
   "execution_count": 3,
   "metadata": {},
   "outputs": [
    {
     "name": "stdout",
     "output_type": "stream",
     "text": [
      "[1 0]\n",
      "[1 0]\n",
      "[1.11022302e-16 0.00000000e+00 1.00000000e+00]\n",
      "[1. 0. 0.]\n"
     ]
    }
   ],
   "source": [
    "print(cooler_x.pol)\n",
    "print(cooler_y.pol)\n",
    "print(cooler_x.pol_vec)\n",
    "print(cooler_y.pol_vec)"
   ]
  },
  {
   "cell_type": "code",
   "execution_count": 6,
   "metadata": {},
   "outputs": [],
   "source": [
    "#def dE_Stark(beam: Beam, alpha: u.a0**3):\n",
    "#    return -0.5 * 4*np.pi*eps0*a0**3/h * alpha"
   ]
  },
  {
   "cell_type": "markdown",
   "metadata": {},
   "source": [
    "<h3>K39 D1 line vs K40 D1 line</h3>"
   ]
  },
  {
   "cell_type": "code",
   "execution_count": 7,
   "metadata": {},
   "outputs": [],
   "source": [
    "k39_D1 = (c / (770.108385049*u.nm).to(u.m)).to(u.THz)\n",
    "k39_cross_level_D1 = k39_D1 - (57.57*u.MHz).to(u.THz)\n",
    "\n",
    "k40_D1 = (c / (770.108136507*u.nm).to(u.m)).to(u.THz)"
   ]
  },
  {
   "cell_type": "code",
   "execution_count": 8,
   "metadata": {},
   "outputs": [
    {
     "name": "stdout",
     "output_type": "stream",
     "text": [
      "K39 D1 line:  389.2860587161701 THz\n",
      "K39 cross level D1 line:  389.28600114617007 THz\n",
      "K40 D1 line:  389.28618435298785 THz\n",
      "Difference K39 D1 - K40 D1:  -125.63681775645819 MHz\n",
      "Difference K39 cross level D1 - K40 D1:  -183.2068177805013 MHz\n"
     ]
    }
   ],
   "source": [
    "print('K39 D1 line: ',k39_D1)\n",
    "print('K39 cross level D1 line: ', k39_cross_level_D1)\n",
    "print('K40 D1 line: ', k40_D1)\n",
    "print('Difference K39 D1 - K40 D1: ', (k39_D1 - k40_D1).to(u.MHz))\n",
    "print('Difference K39 cross level D1 - K40 D1: ', (k39_cross_level_D1 - k40_D1).to(u.MHz))"
   ]
  },
  {
   "cell_type": "code",
   "execution_count": null,
   "metadata": {},
   "outputs": [],
   "source": []
  }
 ],
 "metadata": {
  "kernelspec": {
   "display_name": "lightmatter",
   "language": "python",
   "name": "python3"
  },
  "language_info": {
   "codemirror_mode": {
    "name": "ipython",
    "version": 3
   },
   "file_extension": ".py",
   "mimetype": "text/x-python",
   "name": "python",
   "nbconvert_exporter": "python",
   "pygments_lexer": "ipython3",
   "version": "3.10.13"
  }
 },
 "nbformat": 4,
 "nbformat_minor": 2
}
